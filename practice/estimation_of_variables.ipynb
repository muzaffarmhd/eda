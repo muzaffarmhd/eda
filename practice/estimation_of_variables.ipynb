{
 "cells": [
  {
   "cell_type": "markdown",
   "id": "645e81b6",
   "metadata": {},
   "source": [
    "Location is just one dimension in summarizing a feature. A second dimension, variability, also\n",
    "referred to as dispersion, measures whether the data values are tightly clustered or spread out. At\n",
    "the heart of statistics lies variability: measuring it, reducing it, distinguishing random from real\n",
    "variability, identifying the various sources of real variability, and making decisions in the\n",
    "presence of it."
   ]
  }
 ],
 "metadata": {
  "language_info": {
   "name": "python"
  }
 },
 "nbformat": 4,
 "nbformat_minor": 5
}
